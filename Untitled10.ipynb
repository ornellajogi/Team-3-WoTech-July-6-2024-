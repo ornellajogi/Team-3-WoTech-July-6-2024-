{
  "nbformat": 4,
  "nbformat_minor": 0,
  "metadata": {
    "colab": {
      "provenance": [],
      "include_colab_link": true
    },
    "kernelspec": {
      "name": "python3",
      "display_name": "Python 3"
    },
    "language_info": {
      "name": "python"
    }
  },
  "cells": [
    {
      "cell_type": "markdown",
      "metadata": {
        "id": "view-in-github",
        "colab_type": "text"
      },
      "source": [
        "<a href=\"https://colab.research.google.com/github/ornellajogi/Team-3-WoTech-from-July-2024-/blob/main/Untitled10.ipynb\" target=\"_parent\"><img src=\"https://colab.research.google.com/assets/colab-badge.svg\" alt=\"Open In Colab\"/></a>"
      ]
    },
    {
      "cell_type": "code",
      "execution_count": null,
      "metadata": {
        "id": "6fjWJrzy4yvZ"
      },
      "outputs": [],
      "source": [
        "userFruit = input(\"What fruit would you like to buy? \")\n",
        "if userFruit in fruits:\n",
        "    print(f'{userFruit} is in the list')\n",
        "else:\n",
        "    print(f'{userFruit} is not in the list')\n",
        "\n",
        "## added by ornella"
      ]
    }
  ]
}
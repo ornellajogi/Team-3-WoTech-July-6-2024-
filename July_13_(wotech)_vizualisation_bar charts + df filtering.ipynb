{
  "nbformat": 4,
  "nbformat_minor": 0,
  "metadata": {
    "colab": {
      "provenance": [],
      "authorship_tag": "ABX9TyNU+tYBHaXZ/lau3huGfPq6",
      "include_colab_link": true
    },
    "kernelspec": {
      "name": "python3",
      "display_name": "Python 3"
    },
    "language_info": {
      "name": "python"
    }
  },
  "cells": [
    {
      "cell_type": "markdown",
      "metadata": {
        "id": "view-in-github",
        "colab_type": "text"
      },
      "source": [
        "<a href=\"https://colab.research.google.com/github/ornellajogi/Team-3-WoTech-July-6-2024-/blob/main/July_13_(wotech)_vizualisation_bar%20charts%20%2B%20df%20filtering.ipynb\" target=\"_parent\"><img src=\"https://colab.research.google.com/assets/colab-badge.svg\" alt=\"Open In Colab\"/></a>"
      ]
    },
    {
      "cell_type": "markdown",
      "source": [
        "Task 1" ADDING SAMPLE TEXT TO TEST EDITING POSSIBILITY
      ],
      "metadata": {
        "id": "u9HFYyU6tHQJ"
      }
    },
    {
      "cell_type": "code",
      "source": [],
      "metadata": {
        "id": "1flmj5ddtIrb"
      },
      "execution_count": null,
      "outputs": []
    },
    {
      "cell_type": "markdown",
      "source": [
        "Task 2"
      ],
      "metadata": {
        "id": "k-Ry_7ectEOo"
      }
    },
    {
      "cell_type": "code",
      "execution_count": 3,
      "metadata": {
        "colab": {
          "base_uri": "https://localhost:8080/",
          "height": 819
        },
        "id": "EabQXSGdrhME",
        "outputId": "6c9088c0-f889-40b8-ede1-70fb76fc65fb"
      },
      "outputs": [
        {
          "output_type": "stream",
          "name": "stdout",
          "text": [
            "            Name  count\n",
            "0        Michael   1167\n",
            "1          David    761\n",
            "2           John    749\n",
            "3          James    730\n",
            "4    Christopher    711\n",
            "..           ...    ...\n",
            "685     Terrance      4\n",
            "686      Preston      4\n",
            "687        Perry      3\n",
            "688      Latasha      2\n",
            "689         Leon      1\n",
            "\n",
            "[690 rows x 2 columns]\n",
            "          Name  count\n",
            "0      Michael   1167\n",
            "1        David    761\n",
            "2         John    749\n",
            "3        James    730\n",
            "4  Christopher    711\n"
          ]
        },
        {
          "output_type": "display_data",
          "data": {
            "text/plain": [
              "<Figure size 640x480 with 1 Axes>"
            ],
            "image/png": "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\n"
          },
          "metadata": {}
        }
      ],
      "source": [
        "import pandas as pd\n",
        "import matplotlib.pyplot as plt\n",
        "\n",
        "dataset = pd.read_csv('/content/transaction_dataset.csv')\n",
        "#count occurrence of each name\n",
        "dataset['Name'].value_counts(dropna=False).reset_index() #reset index\n",
        "#create name counts dataframe\n",
        "name_counts = dataset['Name'].value_counts(dropna=False).reset_index() #reset index\n",
        "name_counts\n",
        "#Sort name_counts in descending order based on the count column\n",
        "name_counts_sorted = name_counts.sort_values(by='count', ascending=False)\n",
        "print(name_counts_sorted)\n",
        "#filter dataset for top names\n",
        "top_names = name_counts_sorted.head(5)\n",
        "print(top_names)\n",
        "#create horizontal bar chart\n",
        "plt.barh(top_names['Name'], top_names['count'], color='pink')\n",
        "plt.title('Top 5 names')\n",
        "plt.ylabel('Name')\n",
        "plt.xlabel('Count')\n",
        "plt.gca().invert_yaxis() # Invert y-axis to have the highest count at the top\n",
        "plt.show()"
      ]
    },
    {
      "cell_type": "markdown",
      "source": [
        "Task 3"
      ],
      "metadata": {
        "id": "xXCLSW18tJ_H"
      }
    },
    {
      "cell_type": "code",
      "source": [],
      "metadata": {
        "id": "Xv-gOBausLsb"
      },
      "execution_count": null,
      "outputs": []
    }
  ]
}
